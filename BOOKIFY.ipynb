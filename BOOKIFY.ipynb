{
  "nbformat": 4,
  "nbformat_minor": 0,
  "metadata": {
    "colab": {
      "provenance": [],
      "authorship_tag": "ABX9TyNtXlkdDshPX6dIxZf/t3aj",
      "include_colab_link": true
    },
    "kernelspec": {
      "name": "python3",
      "display_name": "Python 3"
    },
    "language_info": {
      "name": "python"
    }
  },
  "cells": [
    {
      "cell_type": "markdown",
      "metadata": {
        "id": "view-in-github",
        "colab_type": "text"
      },
      "source": [
        "<a href=\"https://colab.research.google.com/github/Khushi2004Shrivastava/Khushi2004Shrivastava/blob/main/BOOKIFY.ipynb\" target=\"_parent\"><img src=\"https://colab.research.google.com/assets/colab-badge.svg\" alt=\"Open In Colab\"/></a>"
      ]
    },
    {
      "cell_type": "code",
      "execution_count": 1,
      "metadata": {
        "colab": {
          "base_uri": "https://localhost:8080/",
          "height": 185
        },
        "id": "-Pbd5d209-YP",
        "outputId": "6180c4b1-554b-4722-9b74-b7ab506e81a5"
      },
      "outputs": [
        {
          "output_type": "display_data",
          "data": {
            "text/plain": [
              "<IPython.core.display.HTML object>"
            ],
            "text/html": [
              "<p style='font-weight: bold; color: blue; font-size: 20px; '><b>--- Book Management System ---</b></p>"
            ]
          },
          "metadata": {}
        },
        {
          "output_type": "display_data",
          "data": {
            "text/plain": [
              "<IPython.core.display.HTML object>"
            ],
            "text/html": [
              "<p style='color: yellow; font-size: 16px; '>1. Register</p>"
            ]
          },
          "metadata": {}
        },
        {
          "output_type": "display_data",
          "data": {
            "text/plain": [
              "<IPython.core.display.HTML object>"
            ],
            "text/html": [
              "<p style='color: yellow; font-size: 16px; '>2. Login</p>"
            ]
          },
          "metadata": {}
        },
        {
          "output_type": "display_data",
          "data": {
            "text/plain": [
              "<IPython.core.display.HTML object>"
            ],
            "text/html": [
              "<p style='color: yellow; font-size: 16px; '>3. Exit</p>"
            ]
          },
          "metadata": {}
        },
        {
          "name": "stdout",
          "output_type": "stream",
          "text": [
            "Enter your choice: 3\n"
          ]
        },
        {
          "output_type": "display_data",
          "data": {
            "text/plain": [
              "<IPython.core.display.HTML object>"
            ],
            "text/html": [
              "<p style='font-weight: bold; color: blue; font-size: 20px; '>Goodbye!</p>"
            ]
          },
          "metadata": {}
        }
      ],
      "source": [
        "import re\n",
        "from datetime import datetime\n",
        "from IPython.display import display, HTML\n",
        "\n",
        "class ValidationError(Exception):\n",
        "    \"\"\"Custom exception for validation errors.\"\"\"\n",
        "    def __init__(self, message):\n",
        "        super().__init__(message)\n",
        "\n",
        "class BookManagementSystem:\n",
        "    def __init__(self):\n",
        "        self.users = None  # Head of the user linked list\n",
        "\n",
        "    def _styled_print(self, text, bold=False, color=None, font_size=None):\n",
        "        \"\"\"Helper function to style print outputs using HTML.\"\"\"\n",
        "        style = \"\"\n",
        "        if bold:\n",
        "            style += \"font-weight: bold; \"\n",
        "        if color:\n",
        "            style += f\"color: {color}; \"\n",
        "        if font_size:\n",
        "            style += f\"font-size: {font_size}; \"\n",
        "\n",
        "        display(HTML(f\"<p style='{style}'>{text}</p>\"))\n",
        "\n",
        "    def register_user(self, username, email, password, dob):\n",
        "        \"\"\"Register a new user with validation.\"\"\"\n",
        "        try:\n",
        "            if not username or not email or not password or not dob:\n",
        "                raise ValidationError(\"All fields are required.\")\n",
        "            if not self._is_valid_email(email):\n",
        "                raise ValidationError(f\"Invalid email address: '{email}'.\")\n",
        "            if not self._is_valid_dob(dob):\n",
        "                raise ValidationError(f\"Invalid date of birth: '{dob}'. Use DD-MM-YYYY format.\")\n",
        "\n",
        "            # Check if user already exists\n",
        "            if self._find_user(username):\n",
        "                raise ValidationError(f\"User '{username}' already exists.\")\n",
        "\n",
        "            # Create the new user and add it to the list\n",
        "            new_user = UserNode(username, email, password, dob)\n",
        "            if not self.users:\n",
        "                self.users = new_user\n",
        "            else:\n",
        "                current = self.users\n",
        "                while current.next:\n",
        "                    current = current.next\n",
        "                current.next = new_user\n",
        "\n",
        "            self._styled_print(f\"🎉 User '{username}' registered successfully!\", bold=True, color=\"green\", font_size=\"18px\")\n",
        "        except ValidationError as e:\n",
        "            self._styled_print(f\"❌ Registration error: {e}\", bold=True, color=\"red\", font_size=\"16px\")\n",
        "\n",
        "    def login(self, username, password):\n",
        "        \"\"\"Log in a user with error feedback.\"\"\"\n",
        "        try:\n",
        "            if not username or not password:\n",
        "                raise ValidationError(\"Both username and password are required.\")\n",
        "\n",
        "            user = self._find_user(username)\n",
        "            if not user or user.password != password:\n",
        "                raise ValidationError(\"Invalid username or password.\")\n",
        "\n",
        "            self._styled_print(f\"✅ Welcome back, {username}!\", bold=True, color=\"green\", font_size=\"18px\")\n",
        "            return user  # Return user object for further actions (like adding books)\n",
        "        except ValidationError as e:\n",
        "            self._styled_print(f\"❌ Login error: {e}\", bold=True, color=\"red\", font_size=\"16px\")\n",
        "            return None\n",
        "\n",
        "    def _is_valid_email(self, email):\n",
        "        \"\"\"Validate email format.\"\"\"\n",
        "        pattern = r'^[\\w\\.-]+@[\\w\\.-]+\\.\\w+$'\n",
        "        return re.match(pattern, email) is not None\n",
        "\n",
        "    def _is_valid_dob(self, dob):\n",
        "        \"\"\"Validate date of birth format (DD-MM-YYYY).\"\"\"\n",
        "        try:\n",
        "            datetime.strptime(dob, \"%d-%m-%Y\")\n",
        "            return True\n",
        "        except ValueError:\n",
        "            return False\n",
        "\n",
        "    def _is_valid_publication_date(self, publication_date):\n",
        "        \"\"\"Validate publication date format (DD-MM-YYYY).\"\"\"\n",
        "        try:\n",
        "            datetime.strptime(publication_date, \"%d-%m-%Y\")\n",
        "            return True\n",
        "        except ValueError:\n",
        "            return False\n",
        "\n",
        "    def _find_user(self, username):\n",
        "        \"\"\"Find a user node by username.\"\"\"\n",
        "        current = self.users\n",
        "        while current:\n",
        "            if current.username == username:\n",
        "                return current\n",
        "            current = current.next\n",
        "        return None\n",
        "\n",
        "class UserNode:\n",
        "    \"\"\"Node to store user data in linked list.\"\"\"\n",
        "    def __init__(self, username, email, password, dob):\n",
        "        self.username = username\n",
        "        self.email = email\n",
        "        self.password = password\n",
        "        self.dob = dob\n",
        "        self.books = None  # Head of the books linked list\n",
        "        self.reading_list = None  # Head of the reading list linked list\n",
        "        self.next = None  # Link to the next user\n",
        "\n",
        "# --- Main Script ---\n",
        "if __name__ == \"__main__\":\n",
        "    system = BookManagementSystem()\n",
        "    while True:\n",
        "        system._styled_print(\"<b>--- Book Management System ---</b>\", bold=True, color=\"blue\", font_size=\"20px\")\n",
        "        system._styled_print(\"1. Register\", color=\"yellow\", font_size=\"16px\")\n",
        "        system._styled_print(\"2. Login\", color=\"yellow\", font_size=\"16px\")\n",
        "        system._styled_print(\"3. Exit\", color=\"yellow\", font_size=\"16px\")\n",
        "        choice = input(\"Enter your choice: \").strip()\n",
        "        if choice == \"1\":\n",
        "            username = input(\"Enter username: \").strip()\n",
        "            email = input(\"Enter email: \").strip()\n",
        "            password = input(\"Enter password: \").strip()\n",
        "            dob = input(\"Enter date of birth (DD-MM-YYYY): \").strip()\n",
        "            system.register_user(username, email, password, dob)\n",
        "        elif choice == \"2\":\n",
        "            username = input(\"Enter username: \").strip()\n",
        "            password = input(\"Enter password: \").strip()\n",
        "            user = system.login(username, password)\n",
        "            if user:\n",
        "                while True:\n",
        "                    system._styled_print(\"<b>--- User Dashboard ---</b>\", bold=True, color=\"blue\", font_size=\"20px\")\n",
        "                    system._styled_print(\"1. Add Book\", color=\"yellow\", font_size=\"16px\")\n",
        "                    system._styled_print(\"2. Remove Book\", color=\"yellow\", font_size=\"16px\")\n",
        "                    system._styled_print(\"3. View Reading List\", color=\"yellow\", font_size=\"16px\")\n",
        "                    system._styled_print(\"4. Add to Reading List\", color=\"yellow\", font_size=\"16px\")\n",
        "                    system._styled_print(\"5. Remove from Reading List\", color=\"yellow\", font_size=\"16px\")\n",
        "                    system._styled_print(\"6. Logout\", color=\"yellow\", font_size=\"16px\")\n",
        "                    user_choice = input(\"Enter your choice: \").strip()\n",
        "                    if user_choice == \"1\":\n",
        "                        title = input(\"Enter book title: \").strip()\n",
        "                        author = input(\"Enter author name: \").strip()\n",
        "                        genre = input(\"Enter genre: \").strip()\n",
        "                        publication_date = input(\"Enter publication date (DD-MM-YYYY): \").strip()\n",
        "\n",
        "                        # Validate publication date\n",
        "                        if not system._is_valid_publication_date(publication_date):\n",
        "                            system._styled_print(f\"❌ Invalid publication date: '{publication_date}'. Use DD-MM-YYYY format.\", bold=True, color=\"red\", font_size=\"16px\")\n",
        "                        else:\n",
        "                            system._styled_print(f\"Book '{title}' added to your collection.\", color=\"green\", font_size=\"16px\")\n",
        "                    elif user_choice == \"2\":\n",
        "                        title = input(\"Enter book title to remove: \").strip()\n",
        "                        system._styled_print(f\"Book '{title}' removed from your collection.\", color=\"red\", font_size=\"16px\")\n",
        "                    elif user_choice == \"3\":\n",
        "                        system._styled_print(\"Your reading list is empty.\", color=\"blue\", font_size=\"16px\")\n",
        "                    elif user_choice == \"4\":\n",
        "                        title = input(\"Enter book title to add to reading list: \").strip()\n",
        "                        system._styled_print(f\"Book '{title}' added to your reading list.\", color=\"green\", font_size=\"16px\")\n",
        "                    elif user_choice == \"5\":\n",
        "                        title = input(\"Enter book title to remove from reading list: \").strip()\n",
        "                        system._styled_print(f\"Book '{title}' removed from your reading list.\", color=\"red\", font_size=\"16px\")\n",
        "                    elif user_choice == \"6\":\n",
        "                        system._styled_print(\"Logged out.\", color=\"blue\", font_size=\"16px\")\n",
        "                        break\n",
        "                    else:\n",
        "                        system._styled_print(\"Invalid choice. Try again.\", bold=True, color=\"red\", font_size=\"16px\")\n",
        "        elif choice == \"3\":\n",
        "            system._styled_print(\"Goodbye!\", bold=True, color=\"blue\", font_size=\"20px\")\n",
        "            break\n",
        "        else:\n",
        "            system._styled_print(\"Invalid choice. Please try again.\", bold=True, color=\"red\", font_size=\"16px\")\n"
      ]
    },
    {
      "cell_type": "code",
      "source": [
        "class BookManagementSystem:\n",
        "    def __init__(self):\n",
        "        self.users = None  # Head of the user linked list\n",
        "\n",
        "    def _styled_print(self, text, bold=False, color=None, font_size=None):\n",
        "        \"\"\"Helper function to style print outputs using HTML.\"\"\"\n",
        "        style = \"\"\n",
        "        if bold:\n",
        "            style += \"font-weight: bold; \"\n",
        "        if color:\n",
        "            style += f\"color: {color}; \"\n",
        "        if font_size:\n",
        "            style += f\"font-size: {font_size}; \"\n",
        "        display(HTML(f\"<p style='{style}'>{text}</p>\"))\n",
        "\n",
        "    def register_user(self, username, email, password, dob):\n",
        "        \"\"\"Register a new user with validation.\"\"\"\n",
        "        try:\n",
        "            if not username or not email or not password or not dob:\n",
        "                raise ValidationError(\"All fields are required.\")\n",
        "            if not self._is_valid_email(email):\n",
        "                raise ValidationError(f\"Invalid email address: '{email}'.\")\n",
        "            if not self._is_valid_dob(dob):\n",
        "                raise ValidationError(f\"Invalid date of birth: '{dob}'. Use DD-MM-YYYY format.\")\n",
        "\n",
        "            # Check if user already exists\n",
        "            if self._find_user(username):\n",
        "                raise ValidationError(f\"User '{username}' already exists.\")\n",
        "\n",
        "            # Create the new user and add it to the list\n",
        "            new_user = UserNode(username, email, password, dob)\n",
        "            if not self.users:\n",
        "                self.users = new_user\n",
        "            else:\n",
        "                current = self.users\n",
        "                while current.next:\n",
        "                    current = current.next\n",
        "                current.next = new_user\n",
        "\n",
        "            self._styled_print(f\"🎉 User '{username}' registered successfully!\", bold=True, color=\"green\", font_size=\"18px\")\n",
        "        except ValidationError as e:\n",
        "            self._styled_print(f\"❌ Registration error: {e}\", bold=True, color=\"red\", font_size=\"16px\")\n",
        "\n",
        "    def login(self, username, password):\n",
        "        \"\"\"Log in a user with error feedback.\"\"\"\n",
        "        try:\n",
        "            if not username or not password:\n",
        "                raise ValidationError(\"Both username and password are required.\")\n",
        "\n",
        "            user = self._find_user(username)\n",
        "            if not user or user.password != password:\n",
        "                raise ValidationError(\"Invalid username or password.\")\n",
        "\n",
        "            self._styled_print(f\"✅ Welcome back, {username}!\", bold=True, color=\"green\", font_size=\"18px\")\n",
        "            return user  # Return user object for further actions (like adding books)\n",
        "        except ValidationError as e:\n",
        "            self._styled_print(f\"❌ Login error: {e}\", bold=True, color=\"red\", font_size=\"16px\")\n",
        "            return None\n",
        "\n",
        "    def _is_valid_email(self, email):\n",
        "        \"\"\"Validate email format.\"\"\"\n",
        "        pattern = r'^[\\w\\.-]+@[\\w\\.-]+\\.\\w+$'\n",
        "        return re.match(pattern, email) is not None\n",
        "\n",
        "    def _is_valid_dob(self, dob):\n",
        "        \"\"\"Validate date of birth format (DD-MM-YYYY).\"\"\"\n",
        "        try:\n",
        "            datetime.strptime(dob, \"%d-%m-%Y\")\n",
        "            return True\n",
        "        except ValueError:\n",
        "            return False\n",
        "\n",
        "    def _is_valid_publication_date(self, publication_date):\n",
        "        \"\"\"Validate publication date format (DD-MM-YYYY).\"\"\"\n",
        "        try:\n",
        "            datetime.strptime(publication_date, \"%d-%m-%Y\")\n",
        "            return True\n",
        "        except ValueError:\n",
        "            return False\n",
        "\n",
        "    def _find_user(self, username):\n",
        "        \"\"\"Find a user node by username.\"\"\"\n",
        "        current = self.users\n",
        "        while current:\n",
        "            if current.username == username:\n",
        "                return current\n",
        "            current = current.next\n",
        "        return None\n",
        "\n",
        "    def add_book_to_reading_list(self, user, title):\n",
        "        \"\"\"Add a book to the user's reading list.\"\"\"\n",
        "        new_book = BookNode(title)\n",
        "        if not user.reading_list:\n",
        "            user.reading_list = new_book\n",
        "        else:\n",
        "            current = user.reading_list\n",
        "            while current.next:\n",
        "                current = current.next\n",
        "            current.next = new_book\n",
        "        self._styled_print(f\"Book '{title}' added to your reading list.\", color=\"green\", font_size=\"16px\")\n",
        "\n",
        "    def remove_book_from_reading_list(self, user, title):\n",
        "        \"\"\"Remove a book from the user's reading list.\"\"\"\n",
        "        current = user.reading_list\n",
        "        prev = None\n",
        "        while current:\n",
        "            if current.title == title:\n",
        "                if prev:\n",
        "                    prev.next = current.next\n",
        "                else:\n",
        "                    user.reading_list = current.next\n",
        "                self._styled_print(f\"Book '{title}' removed from your reading list.\", color=\"red\", font_size=\"16px\")\n",
        "                return\n",
        "            prev = current\n",
        "            current = current.next\n",
        "        self._styled_print(f\"Book '{title}' not found in your reading list.\", color=\"red\", font_size=\"16px\")\n",
        "\n",
        "class UserNode:\n",
        "    \"\"\"Node to store user data in linked list.\"\"\"\n",
        "    def __init__(self, username, email, password, dob):\n",
        "        self.username = username\n",
        "        self.email = email\n",
        "        self.password = password\n",
        "        self.dob = dob\n",
        "        self.books = None  # Head of the books linked list\n",
        "        self.reading_list = None  # Head of the reading list linked list\n",
        "        self.next = None  # Link to the next user\n",
        "\n",
        "class BookNode:\n",
        "    \"\"\"Node to store book data.\"\"\"\n",
        "    def __init__(self, title):\n",
        "        self.title = title\n",
        "        self.next = None  # Link to the next book\n",
        "\n",
        "# --- Main Script ---\n",
        "if __name__ == \"__main__\":\n",
        "    system = BookManagementSystem()\n",
        "    while True:\n",
        "        system._styled_print(\"<b>--- Book Management System ---</b>\", bold=True, color=\"blue\", font_size=\"20px\")\n",
        "        system._styled_print(\"1. Register\", color=\"yellow\", font_size=\"16px\")\n",
        "        system._styled_print(\"2. Login\", color=\"yellow\", font_size=\"16px\")\n",
        "        system._styled_print(\"3. Exit\", color=\"yellow\", font_size=\"16px\")\n",
        "        choice = input(\"Enter your choice: \").strip()\n",
        "        if choice == \"1\":\n",
        "            username = input(\"Enter username: \").strip()\n",
        "            email = input(\"Enter email: \").strip()\n",
        "            password = input(\"Enter password: \").strip()\n",
        "            dob = input(\"Enter date of birth (DD-MM-YYYY): \").strip()\n",
        "            system.register_user(username, email, password, dob)\n",
        "        elif choice == \"2\":\n",
        "            username = input(\"Enter username: \").strip()\n",
        "            password = input(\"Enter password: \").strip()\n",
        "            user = system.login(username, password)\n",
        "            if user:\n",
        "                while True:\n",
        "                    system._styled_print(\"<b>--- User Dashboard ---</b>\", bold=True, color=\"blue\", font_size=\"20px\")\n",
        "                    system._styled_print(\"1. Add Book\", color=\"yellow\", font_size=\"16px\")\n",
        "                    system._styled_print(\"2. Remove Book\", color=\"yellow\", font_size=\"16px\")\n",
        "                    system._styled_print(\"3. View Reading List\", color=\"yellow\", font_size=\"16px\")\n",
        "                    system._styled_print(\"4. Add to Reading List\", color=\"yellow\", font_size=\"16px\")\n",
        "                    system._styled_print(\"5. Remove from Reading List\", color=\"yellow\", font_size=\"16px\")\n",
        "                    system._styled_print(\"6. Logout\", color=\"yellow\", font_size=\"16px\")\n",
        "                    user_choice = input(\"Enter your choice: \").strip()\n",
        "                    if user_choice == \"1\":\n",
        "                        title = input(\"Enter book title: \").strip()\n",
        "                        author = input(\"Enter author name: \").strip()\n",
        "                        genre = input(\"Enter genre: \").strip()\n",
        "                        publication_date = input(\"Enter publication date (DD-MM-YYYY): \").strip()\n",
        "\n",
        "                        # Validate publication date\n",
        "                        if not system._is_valid_publication_date(publication_date):\n",
        "                            system._styled_print(f\"❌ Invalid publication date: '{publication_date}'. Use DD-MM-YYYY format.\", bold=True, color=\"red\", font_size=\"16px\")\n",
        "                        else:\n",
        "                            system._styled_print(f\"Book '{title}' added to your collection.\", color=\"green\", font_size=\"16px\")\n",
        "                    elif user_choice == \"2\":\n",
        "                        title = input(\"Enter book title to remove: \").strip()\n",
        "                        system._styled_print(f\"Book '{title}' removed from your collection.\", color=\"red\", font_size=\"16px\")\n",
        "                    elif user_choice == \"3\":\n",
        "                        if user.reading_list:\n",
        "                            current = user.reading_list\n",
        "                            system._styled_print(\"Your reading list:\", color=\"blue\", font_size=\"16px\")\n",
        "                            while current:\n",
        "                                system._styled_print(f\"- {current.title}\", color=\"green\", font_size=\"16px\")\n",
        "                                current = current.next\n",
        "                        else:\n",
        "                            system._styled_print(\"Your reading list is empty.\", color=\"blue\", font_size=\"16px\")\n",
        "                    elif user_choice == \"4\":\n",
        "                        title = input(\"Enter book title to add to reading list: \").strip()\n",
        "                        system.add_book_to_reading_list(user, title)\n",
        "                    elif user_choice == \"5\":\n",
        "                        title = input(\"Enter book title to remove from reading list: \").strip()\n",
        "                        system.remove_book_from_reading_list(user, title)\n",
        "                    elif user_choice == \"6\":\n",
        "                        system._styled_print(\"Logged out.\", color=\"blue\", font_size=\"16px\")\n",
        "                        break\n",
        "                    else:\n",
        "                        system._styled_print(\"Invalid choice. Try again.\", bold=True, color=\"red\", font_size=\"16px\")\n",
        "        elif choice == \"3\":\n",
        "            system._styled_print(\"Goodbye!\", bold=True, color=\"blue\", font_size=\"20px\")\n",
        "            break\n",
        "        else:\n",
        "            system._styled_print(\"Invalid choice. Please try again.\", bold=True, color=\"red\", font_size=\"16px\")\n"
      ],
      "metadata": {
        "id": "lDZgmwpbb-BY",
        "outputId": "3dce5307-5dfa-48b1-825d-a4f3eb5e0b2a",
        "colab": {
          "base_uri": "https://localhost:8080/",
          "height": 131
        }
      },
      "execution_count": null,
      "outputs": [
        {
          "output_type": "display_data",
          "data": {
            "text/plain": [
              "<IPython.core.display.HTML object>"
            ],
            "text/html": [
              "<p style='font-weight: bold; color: blue; font-size: 20px; '><b>--- Book Management System ---</b></p>"
            ]
          },
          "metadata": {}
        },
        {
          "output_type": "display_data",
          "data": {
            "text/plain": [
              "<IPython.core.display.HTML object>"
            ],
            "text/html": [
              "<p style='color: yellow; font-size: 16px; '>1. Register</p>"
            ]
          },
          "metadata": {}
        },
        {
          "output_type": "display_data",
          "data": {
            "text/plain": [
              "<IPython.core.display.HTML object>"
            ],
            "text/html": [
              "<p style='color: yellow; font-size: 16px; '>2. Login</p>"
            ]
          },
          "metadata": {}
        },
        {
          "output_type": "display_data",
          "data": {
            "text/plain": [
              "<IPython.core.display.HTML object>"
            ],
            "text/html": [
              "<p style='color: yellow; font-size: 16px; '>3. Exit</p>"
            ]
          },
          "metadata": {}
        }
      ]
    }
  ]
}